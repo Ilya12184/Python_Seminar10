{
  "nbformat": 4,
  "nbformat_minor": 0,
  "metadata": {
    "colab": {
      "provenance": [],
      "authorship_tag": "ABX9TyOnYSRWCnU8jO3zWln2ViVt"
    },
    "kernelspec": {
      "name": "python3",
      "display_name": "Python 3"
    },
    "language_info": {
      "name": "python"
    }
  },
  "cells": [
    {
      "cell_type": "code",
      "execution_count": 9,
      "metadata": {
        "colab": {
          "base_uri": "https://localhost:8080/"
        },
        "id": "nKq2RYH4V8le",
        "outputId": "7a589c5c-eb12-4aed-f0dd-56e4a2f39aaa"
      },
      "outputs": [
        {
          "output_type": "stream",
          "name": "stdout",
          "text": [
            "   whoAmI\n",
            "0   human\n",
            "1   robot\n",
            "2   robot\n",
            "3   human\n",
            "4   human\n",
            "5   human\n",
            "6   human\n",
            "7   robot\n",
            "8   robot\n",
            "9   human\n",
            "10  robot\n",
            "11  robot\n",
            "12  human\n",
            "13  robot\n",
            "14  human\n",
            "15  human\n",
            "16  robot\n",
            "17  robot\n",
            "18  robot\n",
            "19  human\n",
            "    human  robot\n",
            "0       1      0\n",
            "1       0      1\n",
            "2       0      1\n",
            "3       1      0\n",
            "4       1      0\n",
            "5       1      0\n",
            "6       1      0\n",
            "7       0      1\n",
            "8       0      1\n",
            "9       1      0\n",
            "10      0      1\n",
            "11      0      1\n",
            "12      1      0\n",
            "13      0      1\n",
            "14      1      0\n",
            "15      1      0\n",
            "16      0      1\n",
            "17      0      1\n",
            "18      0      1\n",
            "19      1      0\n"
          ]
        }
      ],
      "source": [
        "import pandas as pd\n",
        "import numpy as np \n",
        "import random\n",
        " \n",
        "lst = ['robot'] * 10\n",
        "lst += ['human'] * 10\n",
        "random.shuffle(lst)\n",
        "data = pd.DataFrame({'whoAmI': lst})\n",
        "print(data)\n",
        " \n",
        "data['tmp'] = 1\n",
        "data.set_index([data.index, 'whoAmI'], inplace=True)\n",
        "data = data.unstack(level=-1, fill_value = 0).astype(int)\n",
        "data.columns = data.columns.droplevel()\n",
        "data.columns.name = None\n",
        "print(data)"
      ]
    }
  ]
}